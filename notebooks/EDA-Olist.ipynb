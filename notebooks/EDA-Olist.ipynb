{
 "cells": [
  {
   "cell_type": "code",
   "execution_count": 83,
   "id": "ccdd2a18",
   "metadata": {},
   "outputs": [],
   "source": [
    "import pandas as pd \n",
    "import os"
   ]
  },
  {
   "cell_type": "markdown",
   "id": "ebaa70fe",
   "metadata": {},
   "source": [
    "### Declare Dataset"
   ]
  },
  {
   "cell_type": "code",
   "execution_count": 2,
   "id": "f6f59abe",
   "metadata": {},
   "outputs": [],
   "source": [
    "#Customer\n",
    "df_customer = pd.read_csv(r\"F:\\Portofolio\\Warehousing\\data\\raw\\olist_customers_dataset.csv\")\n",
    "\n",
    "#Geolocation\n",
    "df_geolocation = pd.read_csv(r\"F:\\Portofolio\\Warehousing\\data\\\\raw\\olist_geolocation_dataset.csv\")\n",
    "\n",
    "#Order Items\n",
    "df_order_items = pd.read_csv(r\"F:\\Portofolio\\Warehousing\\data\\raw\\olist_order_items_dataset.csv\")\n",
    "\n",
    "#Order Payment\n",
    "df_order_payment = pd.read_csv(r\"F:\\Portofolio\\Warehousing\\data\\raw\\olist_order_payments_dataset.csv\")\n",
    "\n",
    "#Order Review\n",
    "df_order_review = pd.read_csv(r\"F:\\Portofolio\\Warehousing\\data\\raw\\olist_order_reviews_dataset.csv\")\n",
    "\n",
    "#Order Delivery\n",
    "df_order_delivery = pd.read_csv(r\"F:\\Portofolio\\Warehousing\\data\\raw\\olist_orders_dataset.csv\")\n",
    "\n",
    "#Product\n",
    "df_product = pd.read_csv(r\"F:\\Portofolio\\Warehousing\\data\\raw\\olist_products_dataset.csv\")\n",
    "\n",
    "#Address\n",
    "df_address = pd.read_csv(r\"F:\\Portofolio\\Warehousing\\data\\raw\\olist_sellers_dataset.csv\")\n",
    "\n",
    "#Category\n",
    "df_category = pd.read_csv(r\"F:\\Portofolio\\Warehousing\\data\\raw\\product_category_name_translation.csv\")\n"
   ]
  },
  {
   "cell_type": "markdown",
   "id": "e2752c60",
   "metadata": {},
   "source": [
    "### Data Preparation Stage"
   ]
  },
  {
   "cell_type": "markdown",
   "id": "43e68a24",
   "metadata": {},
   "source": [
    "#### Customer"
   ]
  },
  {
   "cell_type": "code",
   "execution_count": 3,
   "id": "b7defcb0",
   "metadata": {},
   "outputs": [
    {
     "name": "stdout",
     "output_type": "stream",
     "text": [
      "<class 'pandas.core.frame.DataFrame'>\n",
      "RangeIndex: 99441 entries, 0 to 99440\n",
      "Data columns (total 5 columns):\n",
      " #   Column                    Non-Null Count  Dtype \n",
      "---  ------                    --------------  ----- \n",
      " 0   customer_id               99441 non-null  object\n",
      " 1   customer_unique_id        99441 non-null  object\n",
      " 2   customer_zip_code_prefix  99441 non-null  int64 \n",
      " 3   customer_city             99441 non-null  object\n",
      " 4   customer_state            99441 non-null  object\n",
      "dtypes: int64(1), object(4)\n",
      "memory usage: 3.8+ MB\n"
     ]
    }
   ],
   "source": [
    "df_customer.info()"
   ]
  },
  {
   "cell_type": "code",
   "execution_count": 4,
   "id": "90314398",
   "metadata": {},
   "outputs": [
    {
     "data": {
      "text/plain": [
       "customer_id                 99441\n",
       "customer_unique_id          99441\n",
       "customer_zip_code_prefix    99441\n",
       "customer_city               99441\n",
       "customer_state              99441\n",
       "dtype: int64"
      ]
     },
     "execution_count": 4,
     "metadata": {},
     "output_type": "execute_result"
    }
   ],
   "source": [
    "df_customer.count()"
   ]
  },
  {
   "cell_type": "code",
   "execution_count": 5,
   "id": "9c010991",
   "metadata": {},
   "outputs": [
    {
     "data": {
      "text/plain": [
       "customer_id                 0\n",
       "customer_unique_id          0\n",
       "customer_zip_code_prefix    0\n",
       "customer_city               0\n",
       "customer_state              0\n",
       "dtype: int64"
      ]
     },
     "execution_count": 5,
     "metadata": {},
     "output_type": "execute_result"
    }
   ],
   "source": [
    "df_customer.isnull().sum()"
   ]
  },
  {
   "cell_type": "code",
   "execution_count": 6,
   "id": "53297a9f",
   "metadata": {},
   "outputs": [
    {
     "data": {
      "text/plain": [
       "0"
      ]
     },
     "execution_count": 6,
     "metadata": {},
     "output_type": "execute_result"
    }
   ],
   "source": [
    "df_customer.duplicated().sum()"
   ]
  },
  {
   "cell_type": "code",
   "execution_count": 7,
   "id": "ddb66743",
   "metadata": {},
   "outputs": [
    {
     "name": "stdout",
     "output_type": "stream",
     "text": [
      "customer_city : ['franca' 'sao bernardo do campo' 'sao paulo' ... 'monte bonito'\n",
      " 'sao rafael' 'eugenio de castro']\n",
      "customer_state : ['SP' 'SC' 'MG' 'PR' 'RJ' 'RS' 'PA' 'GO' 'ES' 'BA' 'MA' 'MS' 'CE' 'DF'\n",
      " 'RN' 'PE' 'MT' 'AM' 'AP' 'AL' 'RO' 'PB' 'TO' 'PI' 'AC' 'SE' 'RR']\n"
     ]
    }
   ],
   "source": [
    "for col in [\"customer_city\", \"customer_state\"]:\n",
    "    print(col, \":\", df_customer[col].unique())"
   ]
  },
  {
   "cell_type": "code",
   "execution_count": 84,
   "id": "879a446b",
   "metadata": {},
   "outputs": [],
   "source": [
    "df_customer.to_csv(\"../data/processed/customer_cleaned.csv\", index=False)"
   ]
  },
  {
   "cell_type": "markdown",
   "id": "0afeea6d",
   "metadata": {},
   "source": [
    "#### Geolocation"
   ]
  },
  {
   "cell_type": "code",
   "execution_count": 8,
   "id": "ededafda",
   "metadata": {},
   "outputs": [
    {
     "name": "stdout",
     "output_type": "stream",
     "text": [
      "<class 'pandas.core.frame.DataFrame'>\n",
      "RangeIndex: 1000163 entries, 0 to 1000162\n",
      "Data columns (total 5 columns):\n",
      " #   Column                       Non-Null Count    Dtype  \n",
      "---  ------                       --------------    -----  \n",
      " 0   geolocation_zip_code_prefix  1000163 non-null  int64  \n",
      " 1   geolocation_lat              1000163 non-null  float64\n",
      " 2   geolocation_lng              1000163 non-null  float64\n",
      " 3   geolocation_city             1000163 non-null  object \n",
      " 4   geolocation_state            1000163 non-null  object \n",
      "dtypes: float64(2), int64(1), object(2)\n",
      "memory usage: 38.2+ MB\n"
     ]
    }
   ],
   "source": [
    "df_geolocation.info()"
   ]
  },
  {
   "cell_type": "code",
   "execution_count": 9,
   "id": "64b276a7",
   "metadata": {},
   "outputs": [
    {
     "data": {
      "text/plain": [
       "geolocation_zip_code_prefix    1000163\n",
       "geolocation_lat                1000163\n",
       "geolocation_lng                1000163\n",
       "geolocation_city               1000163\n",
       "geolocation_state              1000163\n",
       "dtype: int64"
      ]
     },
     "execution_count": 9,
     "metadata": {},
     "output_type": "execute_result"
    }
   ],
   "source": [
    "df_geolocation.count()"
   ]
  },
  {
   "cell_type": "code",
   "execution_count": 10,
   "id": "5d92246d",
   "metadata": {},
   "outputs": [
    {
     "name": "stdout",
     "output_type": "stream",
     "text": [
      "geolocation_city : ['sao paulo' 'são paulo' 'sao bernardo do campo' ... 'ciríaco' 'estação'\n",
      " 'vila lângaro']\n",
      "geolocation_state : ['SP' 'RN' 'AC' 'RJ' 'ES' 'MG' 'BA' 'SE' 'PE' 'AL' 'PB' 'CE' 'PI' 'MA'\n",
      " 'PA' 'AP' 'AM' 'RR' 'DF' 'GO' 'RO' 'TO' 'MT' 'MS' 'RS' 'PR' 'SC']\n"
     ]
    }
   ],
   "source": [
    "for col in [\"geolocation_city\", \"geolocation_state\"]:\n",
    "    print(col, \":\", df_geolocation[col].unique())"
   ]
  },
  {
   "cell_type": "code",
   "execution_count": 85,
   "id": "7e5cf68b",
   "metadata": {},
   "outputs": [],
   "source": [
    "df_geolocation.to_csv(\"../data/processed/geolocation_cleaned.csv\", index=False)"
   ]
  },
  {
   "cell_type": "markdown",
   "id": "bfdae849",
   "metadata": {},
   "source": [
    "#### Order Items"
   ]
  },
  {
   "cell_type": "code",
   "execution_count": 11,
   "id": "5a7f8824",
   "metadata": {},
   "outputs": [
    {
     "name": "stdout",
     "output_type": "stream",
     "text": [
      "<class 'pandas.core.frame.DataFrame'>\n",
      "RangeIndex: 112650 entries, 0 to 112649\n",
      "Data columns (total 7 columns):\n",
      " #   Column               Non-Null Count   Dtype  \n",
      "---  ------               --------------   -----  \n",
      " 0   order_id             112650 non-null  object \n",
      " 1   order_item_id        112650 non-null  int64  \n",
      " 2   product_id           112650 non-null  object \n",
      " 3   seller_id            112650 non-null  object \n",
      " 4   shipping_limit_date  112650 non-null  object \n",
      " 5   price                112650 non-null  float64\n",
      " 6   freight_value        112650 non-null  float64\n",
      "dtypes: float64(2), int64(1), object(4)\n",
      "memory usage: 6.0+ MB\n"
     ]
    }
   ],
   "source": [
    "df_order_items.info()"
   ]
  },
  {
   "cell_type": "code",
   "execution_count": 12,
   "id": "fc808a90",
   "metadata": {},
   "outputs": [
    {
     "data": {
      "text/plain": [
       "order_id               112650\n",
       "order_item_id          112650\n",
       "product_id             112650\n",
       "seller_id              112650\n",
       "shipping_limit_date    112650\n",
       "price                  112650\n",
       "freight_value          112650\n",
       "dtype: int64"
      ]
     },
     "execution_count": 12,
     "metadata": {},
     "output_type": "execute_result"
    }
   ],
   "source": [
    "df_order_items.count()"
   ]
  },
  {
   "cell_type": "code",
   "execution_count": 13,
   "id": "d42bb8c5",
   "metadata": {},
   "outputs": [
    {
     "data": {
      "text/html": [
       "<div>\n",
       "<style scoped>\n",
       "    .dataframe tbody tr th:only-of-type {\n",
       "        vertical-align: middle;\n",
       "    }\n",
       "\n",
       "    .dataframe tbody tr th {\n",
       "        vertical-align: top;\n",
       "    }\n",
       "\n",
       "    .dataframe thead th {\n",
       "        text-align: right;\n",
       "    }\n",
       "</style>\n",
       "<table border=\"1\" class=\"dataframe\">\n",
       "  <thead>\n",
       "    <tr style=\"text-align: right;\">\n",
       "      <th></th>\n",
       "      <th>price</th>\n",
       "      <th>freight_value</th>\n",
       "    </tr>\n",
       "  </thead>\n",
       "  <tbody>\n",
       "    <tr>\n",
       "      <th>count</th>\n",
       "      <td>112650.000000</td>\n",
       "      <td>112650.000000</td>\n",
       "    </tr>\n",
       "    <tr>\n",
       "      <th>mean</th>\n",
       "      <td>120.653739</td>\n",
       "      <td>19.990320</td>\n",
       "    </tr>\n",
       "    <tr>\n",
       "      <th>std</th>\n",
       "      <td>183.633928</td>\n",
       "      <td>15.806405</td>\n",
       "    </tr>\n",
       "    <tr>\n",
       "      <th>min</th>\n",
       "      <td>0.850000</td>\n",
       "      <td>0.000000</td>\n",
       "    </tr>\n",
       "    <tr>\n",
       "      <th>25%</th>\n",
       "      <td>39.900000</td>\n",
       "      <td>13.080000</td>\n",
       "    </tr>\n",
       "    <tr>\n",
       "      <th>50%</th>\n",
       "      <td>74.990000</td>\n",
       "      <td>16.260000</td>\n",
       "    </tr>\n",
       "    <tr>\n",
       "      <th>75%</th>\n",
       "      <td>134.900000</td>\n",
       "      <td>21.150000</td>\n",
       "    </tr>\n",
       "    <tr>\n",
       "      <th>max</th>\n",
       "      <td>6735.000000</td>\n",
       "      <td>409.680000</td>\n",
       "    </tr>\n",
       "  </tbody>\n",
       "</table>\n",
       "</div>"
      ],
      "text/plain": [
       "               price  freight_value\n",
       "count  112650.000000  112650.000000\n",
       "mean      120.653739      19.990320\n",
       "std       183.633928      15.806405\n",
       "min         0.850000       0.000000\n",
       "25%        39.900000      13.080000\n",
       "50%        74.990000      16.260000\n",
       "75%       134.900000      21.150000\n",
       "max      6735.000000     409.680000"
      ]
     },
     "execution_count": 13,
     "metadata": {},
     "output_type": "execute_result"
    }
   ],
   "source": [
    "df_order_items[[\"price\", \"freight_value\"]].describe()"
   ]
  },
  {
   "cell_type": "code",
   "execution_count": 14,
   "id": "9a93f952",
   "metadata": {},
   "outputs": [
    {
     "data": {
      "text/html": [
       "<div>\n",
       "<style scoped>\n",
       "    .dataframe tbody tr th:only-of-type {\n",
       "        vertical-align: middle;\n",
       "    }\n",
       "\n",
       "    .dataframe tbody tr th {\n",
       "        vertical-align: top;\n",
       "    }\n",
       "\n",
       "    .dataframe thead th {\n",
       "        text-align: right;\n",
       "    }\n",
       "</style>\n",
       "<table border=\"1\" class=\"dataframe\">\n",
       "  <thead>\n",
       "    <tr style=\"text-align: right;\">\n",
       "      <th></th>\n",
       "      <th>price</th>\n",
       "      <th>freight_value</th>\n",
       "    </tr>\n",
       "  </thead>\n",
       "  <tbody>\n",
       "    <tr>\n",
       "      <th>price</th>\n",
       "      <td>1.000000</td>\n",
       "      <td>0.414204</td>\n",
       "    </tr>\n",
       "    <tr>\n",
       "      <th>freight_value</th>\n",
       "      <td>0.414204</td>\n",
       "      <td>1.000000</td>\n",
       "    </tr>\n",
       "  </tbody>\n",
       "</table>\n",
       "</div>"
      ],
      "text/plain": [
       "                  price  freight_value\n",
       "price          1.000000       0.414204\n",
       "freight_value  0.414204       1.000000"
      ]
     },
     "execution_count": 14,
     "metadata": {},
     "output_type": "execute_result"
    }
   ],
   "source": [
    "df_order_items[[\"price\", \"freight_value\"]].corr()"
   ]
  },
  {
   "cell_type": "code",
   "execution_count": 15,
   "id": "9e2a91d0",
   "metadata": {},
   "outputs": [
    {
     "data": {
      "text/plain": [
       "order_id               0\n",
       "order_item_id          0\n",
       "product_id             0\n",
       "seller_id              0\n",
       "shipping_limit_date    0\n",
       "price                  0\n",
       "freight_value          0\n",
       "dtype: int64"
      ]
     },
     "execution_count": 15,
     "metadata": {},
     "output_type": "execute_result"
    }
   ],
   "source": [
    "df_order_items.isnull().sum()"
   ]
  },
  {
   "cell_type": "code",
   "execution_count": 86,
   "id": "7199e767",
   "metadata": {},
   "outputs": [],
   "source": [
    "df_order_items.to_csv(\"../data/processed/order_items_cleaned.csv\", index=False)"
   ]
  },
  {
   "cell_type": "markdown",
   "id": "eb3ebc54",
   "metadata": {},
   "source": [
    "#### Order Payment"
   ]
  },
  {
   "cell_type": "code",
   "execution_count": 16,
   "id": "ae49147b",
   "metadata": {},
   "outputs": [
    {
     "name": "stdout",
     "output_type": "stream",
     "text": [
      "<class 'pandas.core.frame.DataFrame'>\n",
      "RangeIndex: 103886 entries, 0 to 103885\n",
      "Data columns (total 5 columns):\n",
      " #   Column                Non-Null Count   Dtype  \n",
      "---  ------                --------------   -----  \n",
      " 0   order_id              103886 non-null  object \n",
      " 1   payment_sequential    103886 non-null  int64  \n",
      " 2   payment_type          103886 non-null  object \n",
      " 3   payment_installments  103886 non-null  int64  \n",
      " 4   payment_value         103886 non-null  float64\n",
      "dtypes: float64(1), int64(2), object(2)\n",
      "memory usage: 4.0+ MB\n"
     ]
    }
   ],
   "source": [
    "df_order_payment.info()"
   ]
  },
  {
   "cell_type": "code",
   "execution_count": 17,
   "id": "9a4188d4",
   "metadata": {},
   "outputs": [
    {
     "data": {
      "text/html": [
       "<div>\n",
       "<style scoped>\n",
       "    .dataframe tbody tr th:only-of-type {\n",
       "        vertical-align: middle;\n",
       "    }\n",
       "\n",
       "    .dataframe tbody tr th {\n",
       "        vertical-align: top;\n",
       "    }\n",
       "\n",
       "    .dataframe thead th {\n",
       "        text-align: right;\n",
       "    }\n",
       "</style>\n",
       "<table border=\"1\" class=\"dataframe\">\n",
       "  <thead>\n",
       "    <tr style=\"text-align: right;\">\n",
       "      <th></th>\n",
       "      <th>order_id</th>\n",
       "      <th>payment_sequential</th>\n",
       "      <th>payment_type</th>\n",
       "      <th>payment_installments</th>\n",
       "      <th>payment_value</th>\n",
       "    </tr>\n",
       "  </thead>\n",
       "  <tbody>\n",
       "    <tr>\n",
       "      <th>0</th>\n",
       "      <td>b81ef226f3fe1789b1e8b2acac839d17</td>\n",
       "      <td>1</td>\n",
       "      <td>credit_card</td>\n",
       "      <td>8</td>\n",
       "      <td>99.33</td>\n",
       "    </tr>\n",
       "    <tr>\n",
       "      <th>1</th>\n",
       "      <td>a9810da82917af2d9aefd1278f1dcfa0</td>\n",
       "      <td>1</td>\n",
       "      <td>credit_card</td>\n",
       "      <td>1</td>\n",
       "      <td>24.39</td>\n",
       "    </tr>\n",
       "    <tr>\n",
       "      <th>2</th>\n",
       "      <td>25e8ea4e93396b6fa0d3dd708e76c1bd</td>\n",
       "      <td>1</td>\n",
       "      <td>credit_card</td>\n",
       "      <td>1</td>\n",
       "      <td>65.71</td>\n",
       "    </tr>\n",
       "    <tr>\n",
       "      <th>3</th>\n",
       "      <td>ba78997921bbcdc1373bb41e913ab953</td>\n",
       "      <td>1</td>\n",
       "      <td>credit_card</td>\n",
       "      <td>8</td>\n",
       "      <td>107.78</td>\n",
       "    </tr>\n",
       "    <tr>\n",
       "      <th>4</th>\n",
       "      <td>42fdf880ba16b47b59251dd489d4441a</td>\n",
       "      <td>1</td>\n",
       "      <td>credit_card</td>\n",
       "      <td>2</td>\n",
       "      <td>128.45</td>\n",
       "    </tr>\n",
       "  </tbody>\n",
       "</table>\n",
       "</div>"
      ],
      "text/plain": [
       "                           order_id  payment_sequential payment_type  \\\n",
       "0  b81ef226f3fe1789b1e8b2acac839d17                   1  credit_card   \n",
       "1  a9810da82917af2d9aefd1278f1dcfa0                   1  credit_card   \n",
       "2  25e8ea4e93396b6fa0d3dd708e76c1bd                   1  credit_card   \n",
       "3  ba78997921bbcdc1373bb41e913ab953                   1  credit_card   \n",
       "4  42fdf880ba16b47b59251dd489d4441a                   1  credit_card   \n",
       "\n",
       "   payment_installments  payment_value  \n",
       "0                     8          99.33  \n",
       "1                     1          24.39  \n",
       "2                     1          65.71  \n",
       "3                     8         107.78  \n",
       "4                     2         128.45  "
      ]
     },
     "execution_count": 17,
     "metadata": {},
     "output_type": "execute_result"
    }
   ],
   "source": [
    "df_order_payment.head()"
   ]
  },
  {
   "cell_type": "code",
   "execution_count": 18,
   "id": "f94c0612",
   "metadata": {},
   "outputs": [
    {
     "data": {
      "text/plain": [
       "order_id                0\n",
       "payment_sequential      0\n",
       "payment_type            0\n",
       "payment_installments    0\n",
       "payment_value           0\n",
       "dtype: int64"
      ]
     },
     "execution_count": 18,
     "metadata": {},
     "output_type": "execute_result"
    }
   ],
   "source": [
    "df_order_payment.isnull().sum()"
   ]
  },
  {
   "cell_type": "code",
   "execution_count": 19,
   "id": "3197b882",
   "metadata": {},
   "outputs": [
    {
     "data": {
      "text/plain": [
       "0"
      ]
     },
     "execution_count": 19,
     "metadata": {},
     "output_type": "execute_result"
    }
   ],
   "source": [
    "df_order_payment.duplicated().sum()"
   ]
  },
  {
   "cell_type": "code",
   "execution_count": 20,
   "id": "60ebd30d",
   "metadata": {},
   "outputs": [
    {
     "name": "stdout",
     "output_type": "stream",
     "text": [
      "payment_type : ['credit_card' 'boleto' 'voucher' 'debit_card' 'not_defined']\n"
     ]
    }
   ],
   "source": [
    "for col in [\"payment_type\"]:\n",
    "    print(col, \":\", df_order_payment[col].unique())"
   ]
  },
  {
   "cell_type": "code",
   "execution_count": 21,
   "id": "db83ec52",
   "metadata": {},
   "outputs": [
    {
     "data": {
      "text/html": [
       "<div>\n",
       "<style scoped>\n",
       "    .dataframe tbody tr th:only-of-type {\n",
       "        vertical-align: middle;\n",
       "    }\n",
       "\n",
       "    .dataframe tbody tr th {\n",
       "        vertical-align: top;\n",
       "    }\n",
       "\n",
       "    .dataframe thead th {\n",
       "        text-align: right;\n",
       "    }\n",
       "</style>\n",
       "<table border=\"1\" class=\"dataframe\">\n",
       "  <thead>\n",
       "    <tr style=\"text-align: right;\">\n",
       "      <th></th>\n",
       "      <th>payment_installments</th>\n",
       "      <th>payment_value</th>\n",
       "    </tr>\n",
       "  </thead>\n",
       "  <tbody>\n",
       "    <tr>\n",
       "      <th>count</th>\n",
       "      <td>103886.000000</td>\n",
       "      <td>103886.000000</td>\n",
       "    </tr>\n",
       "    <tr>\n",
       "      <th>mean</th>\n",
       "      <td>2.853349</td>\n",
       "      <td>154.100380</td>\n",
       "    </tr>\n",
       "    <tr>\n",
       "      <th>std</th>\n",
       "      <td>2.687051</td>\n",
       "      <td>217.494064</td>\n",
       "    </tr>\n",
       "    <tr>\n",
       "      <th>min</th>\n",
       "      <td>0.000000</td>\n",
       "      <td>0.000000</td>\n",
       "    </tr>\n",
       "    <tr>\n",
       "      <th>25%</th>\n",
       "      <td>1.000000</td>\n",
       "      <td>56.790000</td>\n",
       "    </tr>\n",
       "    <tr>\n",
       "      <th>50%</th>\n",
       "      <td>1.000000</td>\n",
       "      <td>100.000000</td>\n",
       "    </tr>\n",
       "    <tr>\n",
       "      <th>75%</th>\n",
       "      <td>4.000000</td>\n",
       "      <td>171.837500</td>\n",
       "    </tr>\n",
       "    <tr>\n",
       "      <th>max</th>\n",
       "      <td>24.000000</td>\n",
       "      <td>13664.080000</td>\n",
       "    </tr>\n",
       "  </tbody>\n",
       "</table>\n",
       "</div>"
      ],
      "text/plain": [
       "       payment_installments  payment_value\n",
       "count         103886.000000  103886.000000\n",
       "mean               2.853349     154.100380\n",
       "std                2.687051     217.494064\n",
       "min                0.000000       0.000000\n",
       "25%                1.000000      56.790000\n",
       "50%                1.000000     100.000000\n",
       "75%                4.000000     171.837500\n",
       "max               24.000000   13664.080000"
      ]
     },
     "execution_count": 21,
     "metadata": {},
     "output_type": "execute_result"
    }
   ],
   "source": [
    "df_order_payment[[\"payment_installments\", \"payment_value\"]].describe()"
   ]
  },
  {
   "cell_type": "code",
   "execution_count": 87,
   "id": "3fbd4efa",
   "metadata": {},
   "outputs": [],
   "source": [
    "df_order_payment.to_csv(\"../data/processed/order_payment_cleaned.csv\", index=False)"
   ]
  },
  {
   "cell_type": "markdown",
   "id": "b8007de0",
   "metadata": {},
   "source": [
    "#### Order Review"
   ]
  },
  {
   "cell_type": "code",
   "execution_count": 22,
   "id": "13b2bb62",
   "metadata": {},
   "outputs": [
    {
     "name": "stdout",
     "output_type": "stream",
     "text": [
      "<class 'pandas.core.frame.DataFrame'>\n",
      "RangeIndex: 99224 entries, 0 to 99223\n",
      "Data columns (total 7 columns):\n",
      " #   Column                   Non-Null Count  Dtype \n",
      "---  ------                   --------------  ----- \n",
      " 0   review_id                99224 non-null  object\n",
      " 1   order_id                 99224 non-null  object\n",
      " 2   review_score             99224 non-null  int64 \n",
      " 3   review_comment_title     11568 non-null  object\n",
      " 4   review_comment_message   40977 non-null  object\n",
      " 5   review_creation_date     99224 non-null  object\n",
      " 6   review_answer_timestamp  99224 non-null  object\n",
      "dtypes: int64(1), object(6)\n",
      "memory usage: 5.3+ MB\n"
     ]
    }
   ],
   "source": [
    "df_order_review.info()"
   ]
  },
  {
   "cell_type": "code",
   "execution_count": 23,
   "id": "b595d4c4",
   "metadata": {},
   "outputs": [
    {
     "data": {
      "text/html": [
       "<div>\n",
       "<style scoped>\n",
       "    .dataframe tbody tr th:only-of-type {\n",
       "        vertical-align: middle;\n",
       "    }\n",
       "\n",
       "    .dataframe tbody tr th {\n",
       "        vertical-align: top;\n",
       "    }\n",
       "\n",
       "    .dataframe thead th {\n",
       "        text-align: right;\n",
       "    }\n",
       "</style>\n",
       "<table border=\"1\" class=\"dataframe\">\n",
       "  <thead>\n",
       "    <tr style=\"text-align: right;\">\n",
       "      <th></th>\n",
       "      <th>review_score</th>\n",
       "    </tr>\n",
       "  </thead>\n",
       "  <tbody>\n",
       "    <tr>\n",
       "      <th>count</th>\n",
       "      <td>99224.000000</td>\n",
       "    </tr>\n",
       "    <tr>\n",
       "      <th>mean</th>\n",
       "      <td>4.086421</td>\n",
       "    </tr>\n",
       "    <tr>\n",
       "      <th>std</th>\n",
       "      <td>1.347579</td>\n",
       "    </tr>\n",
       "    <tr>\n",
       "      <th>min</th>\n",
       "      <td>1.000000</td>\n",
       "    </tr>\n",
       "    <tr>\n",
       "      <th>25%</th>\n",
       "      <td>4.000000</td>\n",
       "    </tr>\n",
       "    <tr>\n",
       "      <th>50%</th>\n",
       "      <td>5.000000</td>\n",
       "    </tr>\n",
       "    <tr>\n",
       "      <th>75%</th>\n",
       "      <td>5.000000</td>\n",
       "    </tr>\n",
       "    <tr>\n",
       "      <th>max</th>\n",
       "      <td>5.000000</td>\n",
       "    </tr>\n",
       "  </tbody>\n",
       "</table>\n",
       "</div>"
      ],
      "text/plain": [
       "       review_score\n",
       "count  99224.000000\n",
       "mean       4.086421\n",
       "std        1.347579\n",
       "min        1.000000\n",
       "25%        4.000000\n",
       "50%        5.000000\n",
       "75%        5.000000\n",
       "max        5.000000"
      ]
     },
     "execution_count": 23,
     "metadata": {},
     "output_type": "execute_result"
    }
   ],
   "source": [
    "df_order_review.describe()"
   ]
  },
  {
   "cell_type": "code",
   "execution_count": 24,
   "id": "1e1b4599",
   "metadata": {},
   "outputs": [
    {
     "data": {
      "text/plain": [
       "review_id                  99224\n",
       "order_id                   99224\n",
       "review_score               99224\n",
       "review_comment_title       11568\n",
       "review_comment_message     40977\n",
       "review_creation_date       99224\n",
       "review_answer_timestamp    99224\n",
       "dtype: int64"
      ]
     },
     "execution_count": 24,
     "metadata": {},
     "output_type": "execute_result"
    }
   ],
   "source": [
    "df_order_review.count()"
   ]
  },
  {
   "cell_type": "code",
   "execution_count": 25,
   "id": "608477d8",
   "metadata": {},
   "outputs": [
    {
     "data": {
      "text/plain": [
       "review_id                      0\n",
       "order_id                       0\n",
       "review_score                   0\n",
       "review_comment_title       87656\n",
       "review_comment_message     58247\n",
       "review_creation_date           0\n",
       "review_answer_timestamp        0\n",
       "dtype: int64"
      ]
     },
     "execution_count": 25,
     "metadata": {},
     "output_type": "execute_result"
    }
   ],
   "source": [
    "df_order_review.isna().sum()"
   ]
  },
  {
   "cell_type": "code",
   "execution_count": 26,
   "id": "b4d7be6a",
   "metadata": {},
   "outputs": [],
   "source": [
    "# Filling NULL Data With Unknown\n",
    "df_order_review[\"review_comment_title\"] = df_order_review[\"review_comment_title\"].fillna(\"Unknown\")\n",
    "\n",
    "df_order_review[\"review_comment_message\"] = df_order_review[\"review_comment_message\"].fillna(\"Unknown\")\n"
   ]
  },
  {
   "cell_type": "code",
   "execution_count": 27,
   "id": "a19cd4cb",
   "metadata": {},
   "outputs": [
    {
     "data": {
      "text/plain": [
       "0"
      ]
     },
     "execution_count": 27,
     "metadata": {},
     "output_type": "execute_result"
    }
   ],
   "source": [
    "df_order_review.duplicated().sum()"
   ]
  },
  {
   "cell_type": "code",
   "execution_count": 88,
   "id": "9c72c548",
   "metadata": {},
   "outputs": [],
   "source": [
    "df_order_review.to_csv(\"../data/processed/order_review_cleaned.csv\", index=False)"
   ]
  },
  {
   "cell_type": "markdown",
   "id": "21873a79",
   "metadata": {},
   "source": [
    "#### Order Delivery"
   ]
  },
  {
   "cell_type": "code",
   "execution_count": 28,
   "id": "fc52252b",
   "metadata": {},
   "outputs": [
    {
     "name": "stdout",
     "output_type": "stream",
     "text": [
      "<class 'pandas.core.frame.DataFrame'>\n",
      "RangeIndex: 99441 entries, 0 to 99440\n",
      "Data columns (total 8 columns):\n",
      " #   Column                         Non-Null Count  Dtype \n",
      "---  ------                         --------------  ----- \n",
      " 0   order_id                       99441 non-null  object\n",
      " 1   customer_id                    99441 non-null  object\n",
      " 2   order_status                   99441 non-null  object\n",
      " 3   order_purchase_timestamp       99441 non-null  object\n",
      " 4   order_approved_at              99281 non-null  object\n",
      " 5   order_delivered_carrier_date   97658 non-null  object\n",
      " 6   order_delivered_customer_date  96476 non-null  object\n",
      " 7   order_estimated_delivery_date  99441 non-null  object\n",
      "dtypes: object(8)\n",
      "memory usage: 6.1+ MB\n"
     ]
    }
   ],
   "source": [
    "df_order_delivery.info()"
   ]
  },
  {
   "cell_type": "code",
   "execution_count": 29,
   "id": "4979f4b8",
   "metadata": {},
   "outputs": [
    {
     "data": {
      "text/plain": [
       "0"
      ]
     },
     "execution_count": 29,
     "metadata": {},
     "output_type": "execute_result"
    }
   ],
   "source": [
    "df_order_delivery.duplicated().sum()"
   ]
  },
  {
   "cell_type": "code",
   "execution_count": 30,
   "id": "6a9cd57b",
   "metadata": {},
   "outputs": [
    {
     "data": {
      "text/plain": [
       "order_id                         99441\n",
       "customer_id                      99441\n",
       "order_status                     99441\n",
       "order_purchase_timestamp         99441\n",
       "order_approved_at                99281\n",
       "order_delivered_carrier_date     97658\n",
       "order_delivered_customer_date    96476\n",
       "order_estimated_delivery_date    99441\n",
       "dtype: int64"
      ]
     },
     "execution_count": 30,
     "metadata": {},
     "output_type": "execute_result"
    }
   ],
   "source": [
    "df_order_delivery.count()"
   ]
  },
  {
   "cell_type": "code",
   "execution_count": 31,
   "id": "c7180164",
   "metadata": {},
   "outputs": [
    {
     "data": {
      "text/plain": [
       "order_id                            0\n",
       "customer_id                         0\n",
       "order_status                        0\n",
       "order_purchase_timestamp            0\n",
       "order_approved_at                 160\n",
       "order_delivered_carrier_date     1783\n",
       "order_delivered_customer_date    2965\n",
       "order_estimated_delivery_date       0\n",
       "dtype: int64"
      ]
     },
     "execution_count": 31,
     "metadata": {},
     "output_type": "execute_result"
    }
   ],
   "source": [
    "df_order_delivery.isna().sum()"
   ]
  },
  {
   "cell_type": "code",
   "execution_count": 32,
   "id": "85bc61da",
   "metadata": {},
   "outputs": [],
   "source": [
    "# Filling Missing Value\n",
    "\n",
    "df_order_delivery[\"order_approved_at\"] = df_order_delivery[\"order_approved_at\"].fillna(\"Unknown\")\n",
    "\n",
    "df_order_delivery[\"order_delivered_carrier_date\"] = df_order_delivery[\"order_delivered_carrier_date\"].fillna(\"Unknown\")\n",
    "\n",
    "df_order_delivery[\"order_delivered_customer_date\"] = df_order_delivery[\"order_delivered_customer_date\"].fillna(\"Unknown\")\n"
   ]
  },
  {
   "cell_type": "code",
   "execution_count": 89,
   "id": "000d109b",
   "metadata": {},
   "outputs": [],
   "source": [
    "df_order_delivery.to_csv(\"../data/processed/order_delivery_cleaned.csv\", index=False)"
   ]
  },
  {
   "cell_type": "markdown",
   "id": "c8943d1a",
   "metadata": {},
   "source": [
    "#### Products"
   ]
  },
  {
   "cell_type": "code",
   "execution_count": 33,
   "id": "85c21ea9",
   "metadata": {},
   "outputs": [
    {
     "name": "stdout",
     "output_type": "stream",
     "text": [
      "<class 'pandas.core.frame.DataFrame'>\n",
      "RangeIndex: 32951 entries, 0 to 32950\n",
      "Data columns (total 9 columns):\n",
      " #   Column                      Non-Null Count  Dtype  \n",
      "---  ------                      --------------  -----  \n",
      " 0   product_id                  32951 non-null  object \n",
      " 1   product_category_name       32341 non-null  object \n",
      " 2   product_name_lenght         32341 non-null  float64\n",
      " 3   product_description_lenght  32341 non-null  float64\n",
      " 4   product_photos_qty          32341 non-null  float64\n",
      " 5   product_weight_g            32949 non-null  float64\n",
      " 6   product_length_cm           32949 non-null  float64\n",
      " 7   product_height_cm           32949 non-null  float64\n",
      " 8   product_width_cm            32949 non-null  float64\n",
      "dtypes: float64(7), object(2)\n",
      "memory usage: 2.3+ MB\n"
     ]
    }
   ],
   "source": [
    "df_product.info()"
   ]
  },
  {
   "cell_type": "code",
   "execution_count": 34,
   "id": "17ce5b5e",
   "metadata": {},
   "outputs": [
    {
     "data": {
      "text/html": [
       "<div>\n",
       "<style scoped>\n",
       "    .dataframe tbody tr th:only-of-type {\n",
       "        vertical-align: middle;\n",
       "    }\n",
       "\n",
       "    .dataframe tbody tr th {\n",
       "        vertical-align: top;\n",
       "    }\n",
       "\n",
       "    .dataframe thead th {\n",
       "        text-align: right;\n",
       "    }\n",
       "</style>\n",
       "<table border=\"1\" class=\"dataframe\">\n",
       "  <thead>\n",
       "    <tr style=\"text-align: right;\">\n",
       "      <th></th>\n",
       "      <th>product_id</th>\n",
       "      <th>product_category_name</th>\n",
       "      <th>product_name_lenght</th>\n",
       "      <th>product_description_lenght</th>\n",
       "      <th>product_photos_qty</th>\n",
       "      <th>product_weight_g</th>\n",
       "      <th>product_length_cm</th>\n",
       "      <th>product_height_cm</th>\n",
       "      <th>product_width_cm</th>\n",
       "    </tr>\n",
       "  </thead>\n",
       "  <tbody>\n",
       "    <tr>\n",
       "      <th>0</th>\n",
       "      <td>1e9e8ef04dbcff4541ed26657ea517e5</td>\n",
       "      <td>perfumaria</td>\n",
       "      <td>40.0</td>\n",
       "      <td>287.0</td>\n",
       "      <td>1.0</td>\n",
       "      <td>225.0</td>\n",
       "      <td>16.0</td>\n",
       "      <td>10.0</td>\n",
       "      <td>14.0</td>\n",
       "    </tr>\n",
       "    <tr>\n",
       "      <th>1</th>\n",
       "      <td>3aa071139cb16b67ca9e5dea641aaa2f</td>\n",
       "      <td>artes</td>\n",
       "      <td>44.0</td>\n",
       "      <td>276.0</td>\n",
       "      <td>1.0</td>\n",
       "      <td>1000.0</td>\n",
       "      <td>30.0</td>\n",
       "      <td>18.0</td>\n",
       "      <td>20.0</td>\n",
       "    </tr>\n",
       "    <tr>\n",
       "      <th>2</th>\n",
       "      <td>96bd76ec8810374ed1b65e291975717f</td>\n",
       "      <td>esporte_lazer</td>\n",
       "      <td>46.0</td>\n",
       "      <td>250.0</td>\n",
       "      <td>1.0</td>\n",
       "      <td>154.0</td>\n",
       "      <td>18.0</td>\n",
       "      <td>9.0</td>\n",
       "      <td>15.0</td>\n",
       "    </tr>\n",
       "    <tr>\n",
       "      <th>3</th>\n",
       "      <td>cef67bcfe19066a932b7673e239eb23d</td>\n",
       "      <td>bebes</td>\n",
       "      <td>27.0</td>\n",
       "      <td>261.0</td>\n",
       "      <td>1.0</td>\n",
       "      <td>371.0</td>\n",
       "      <td>26.0</td>\n",
       "      <td>4.0</td>\n",
       "      <td>26.0</td>\n",
       "    </tr>\n",
       "    <tr>\n",
       "      <th>4</th>\n",
       "      <td>9dc1a7de274444849c219cff195d0b71</td>\n",
       "      <td>utilidades_domesticas</td>\n",
       "      <td>37.0</td>\n",
       "      <td>402.0</td>\n",
       "      <td>4.0</td>\n",
       "      <td>625.0</td>\n",
       "      <td>20.0</td>\n",
       "      <td>17.0</td>\n",
       "      <td>13.0</td>\n",
       "    </tr>\n",
       "  </tbody>\n",
       "</table>\n",
       "</div>"
      ],
      "text/plain": [
       "                         product_id  product_category_name  \\\n",
       "0  1e9e8ef04dbcff4541ed26657ea517e5             perfumaria   \n",
       "1  3aa071139cb16b67ca9e5dea641aaa2f                  artes   \n",
       "2  96bd76ec8810374ed1b65e291975717f          esporte_lazer   \n",
       "3  cef67bcfe19066a932b7673e239eb23d                  bebes   \n",
       "4  9dc1a7de274444849c219cff195d0b71  utilidades_domesticas   \n",
       "\n",
       "   product_name_lenght  product_description_lenght  product_photos_qty  \\\n",
       "0                 40.0                       287.0                 1.0   \n",
       "1                 44.0                       276.0                 1.0   \n",
       "2                 46.0                       250.0                 1.0   \n",
       "3                 27.0                       261.0                 1.0   \n",
       "4                 37.0                       402.0                 4.0   \n",
       "\n",
       "   product_weight_g  product_length_cm  product_height_cm  product_width_cm  \n",
       "0             225.0               16.0               10.0              14.0  \n",
       "1            1000.0               30.0               18.0              20.0  \n",
       "2             154.0               18.0                9.0              15.0  \n",
       "3             371.0               26.0                4.0              26.0  \n",
       "4             625.0               20.0               17.0              13.0  "
      ]
     },
     "execution_count": 34,
     "metadata": {},
     "output_type": "execute_result"
    }
   ],
   "source": [
    "df_product.head()"
   ]
  },
  {
   "cell_type": "markdown",
   "id": "b5d11a5b",
   "metadata": {},
   "source": [
    "Recording by dataset source :\n",
    "\n",
    "1. product_name_length : number of characters extracted from the product name.\n",
    "\n",
    "2. product_description_length : number of characters extracted from the product description.\n",
    "\n",
    "3. product_photos_qty : number of product published photos.\n",
    "\n",
    "there 3 attribute is refer for product description component, so that we can said that is not very important\n",
    "\n",
    "4. product length measured in centimeters.\n",
    "\n",
    "5. product height measured in centimeters.\n",
    "\n",
    "6. product width measured in centimeters."
   ]
  },
  {
   "cell_type": "code",
   "execution_count": 44,
   "id": "499950c2",
   "metadata": {},
   "outputs": [],
   "source": [
    "df_product = df_product.drop(\n",
    "    [\"product_name_length\", \"product_description_lenght\", \"product_photos_qty\", \"product_name_lenght\"],\n",
    "    axis='columns',\n",
    "    errors='ignore'\n",
    ")"
   ]
  },
  {
   "cell_type": "code",
   "execution_count": 45,
   "id": "a1c44c95",
   "metadata": {},
   "outputs": [
    {
     "data": {
      "text/html": [
       "<div>\n",
       "<style scoped>\n",
       "    .dataframe tbody tr th:only-of-type {\n",
       "        vertical-align: middle;\n",
       "    }\n",
       "\n",
       "    .dataframe tbody tr th {\n",
       "        vertical-align: top;\n",
       "    }\n",
       "\n",
       "    .dataframe thead th {\n",
       "        text-align: right;\n",
       "    }\n",
       "</style>\n",
       "<table border=\"1\" class=\"dataframe\">\n",
       "  <thead>\n",
       "    <tr style=\"text-align: right;\">\n",
       "      <th></th>\n",
       "      <th>product_id</th>\n",
       "      <th>product_category_name</th>\n",
       "      <th>product_weight_g</th>\n",
       "      <th>product_length_cm</th>\n",
       "      <th>product_height_cm</th>\n",
       "      <th>product_width_cm</th>\n",
       "    </tr>\n",
       "  </thead>\n",
       "  <tbody>\n",
       "    <tr>\n",
       "      <th>0</th>\n",
       "      <td>1e9e8ef04dbcff4541ed26657ea517e5</td>\n",
       "      <td>perfumaria</td>\n",
       "      <td>225.0</td>\n",
       "      <td>16.0</td>\n",
       "      <td>10.0</td>\n",
       "      <td>14.0</td>\n",
       "    </tr>\n",
       "    <tr>\n",
       "      <th>1</th>\n",
       "      <td>3aa071139cb16b67ca9e5dea641aaa2f</td>\n",
       "      <td>artes</td>\n",
       "      <td>1000.0</td>\n",
       "      <td>30.0</td>\n",
       "      <td>18.0</td>\n",
       "      <td>20.0</td>\n",
       "    </tr>\n",
       "    <tr>\n",
       "      <th>2</th>\n",
       "      <td>96bd76ec8810374ed1b65e291975717f</td>\n",
       "      <td>esporte_lazer</td>\n",
       "      <td>154.0</td>\n",
       "      <td>18.0</td>\n",
       "      <td>9.0</td>\n",
       "      <td>15.0</td>\n",
       "    </tr>\n",
       "    <tr>\n",
       "      <th>3</th>\n",
       "      <td>cef67bcfe19066a932b7673e239eb23d</td>\n",
       "      <td>bebes</td>\n",
       "      <td>371.0</td>\n",
       "      <td>26.0</td>\n",
       "      <td>4.0</td>\n",
       "      <td>26.0</td>\n",
       "    </tr>\n",
       "    <tr>\n",
       "      <th>4</th>\n",
       "      <td>9dc1a7de274444849c219cff195d0b71</td>\n",
       "      <td>utilidades_domesticas</td>\n",
       "      <td>625.0</td>\n",
       "      <td>20.0</td>\n",
       "      <td>17.0</td>\n",
       "      <td>13.0</td>\n",
       "    </tr>\n",
       "  </tbody>\n",
       "</table>\n",
       "</div>"
      ],
      "text/plain": [
       "                         product_id  product_category_name  product_weight_g  \\\n",
       "0  1e9e8ef04dbcff4541ed26657ea517e5             perfumaria             225.0   \n",
       "1  3aa071139cb16b67ca9e5dea641aaa2f                  artes            1000.0   \n",
       "2  96bd76ec8810374ed1b65e291975717f          esporte_lazer             154.0   \n",
       "3  cef67bcfe19066a932b7673e239eb23d                  bebes             371.0   \n",
       "4  9dc1a7de274444849c219cff195d0b71  utilidades_domesticas             625.0   \n",
       "\n",
       "   product_length_cm  product_height_cm  product_width_cm  \n",
       "0               16.0               10.0              14.0  \n",
       "1               30.0               18.0              20.0  \n",
       "2               18.0                9.0              15.0  \n",
       "3               26.0                4.0              26.0  \n",
       "4               20.0               17.0              13.0  "
      ]
     },
     "execution_count": 45,
     "metadata": {},
     "output_type": "execute_result"
    }
   ],
   "source": [
    "df_product.head()"
   ]
  },
  {
   "cell_type": "code",
   "execution_count": 46,
   "id": "7b27030e",
   "metadata": {},
   "outputs": [
    {
     "data": {
      "text/html": [
       "<div>\n",
       "<style scoped>\n",
       "    .dataframe tbody tr th:only-of-type {\n",
       "        vertical-align: middle;\n",
       "    }\n",
       "\n",
       "    .dataframe tbody tr th {\n",
       "        vertical-align: top;\n",
       "    }\n",
       "\n",
       "    .dataframe thead th {\n",
       "        text-align: right;\n",
       "    }\n",
       "</style>\n",
       "<table border=\"1\" class=\"dataframe\">\n",
       "  <thead>\n",
       "    <tr style=\"text-align: right;\">\n",
       "      <th></th>\n",
       "      <th>product_weight_g</th>\n",
       "      <th>product_length_cm</th>\n",
       "      <th>product_height_cm</th>\n",
       "      <th>product_width_cm</th>\n",
       "    </tr>\n",
       "  </thead>\n",
       "  <tbody>\n",
       "    <tr>\n",
       "      <th>count</th>\n",
       "      <td>32949.000000</td>\n",
       "      <td>32949.000000</td>\n",
       "      <td>32949.000000</td>\n",
       "      <td>32949.000000</td>\n",
       "    </tr>\n",
       "    <tr>\n",
       "      <th>mean</th>\n",
       "      <td>2276.472488</td>\n",
       "      <td>30.815078</td>\n",
       "      <td>16.937661</td>\n",
       "      <td>23.196728</td>\n",
       "    </tr>\n",
       "    <tr>\n",
       "      <th>std</th>\n",
       "      <td>4282.038731</td>\n",
       "      <td>16.914458</td>\n",
       "      <td>13.637554</td>\n",
       "      <td>12.079047</td>\n",
       "    </tr>\n",
       "    <tr>\n",
       "      <th>min</th>\n",
       "      <td>0.000000</td>\n",
       "      <td>7.000000</td>\n",
       "      <td>2.000000</td>\n",
       "      <td>6.000000</td>\n",
       "    </tr>\n",
       "    <tr>\n",
       "      <th>25%</th>\n",
       "      <td>300.000000</td>\n",
       "      <td>18.000000</td>\n",
       "      <td>8.000000</td>\n",
       "      <td>15.000000</td>\n",
       "    </tr>\n",
       "    <tr>\n",
       "      <th>50%</th>\n",
       "      <td>700.000000</td>\n",
       "      <td>25.000000</td>\n",
       "      <td>13.000000</td>\n",
       "      <td>20.000000</td>\n",
       "    </tr>\n",
       "    <tr>\n",
       "      <th>75%</th>\n",
       "      <td>1900.000000</td>\n",
       "      <td>38.000000</td>\n",
       "      <td>21.000000</td>\n",
       "      <td>30.000000</td>\n",
       "    </tr>\n",
       "    <tr>\n",
       "      <th>max</th>\n",
       "      <td>40425.000000</td>\n",
       "      <td>105.000000</td>\n",
       "      <td>105.000000</td>\n",
       "      <td>118.000000</td>\n",
       "    </tr>\n",
       "  </tbody>\n",
       "</table>\n",
       "</div>"
      ],
      "text/plain": [
       "       product_weight_g  product_length_cm  product_height_cm  \\\n",
       "count      32949.000000       32949.000000       32949.000000   \n",
       "mean        2276.472488          30.815078          16.937661   \n",
       "std         4282.038731          16.914458          13.637554   \n",
       "min            0.000000           7.000000           2.000000   \n",
       "25%          300.000000          18.000000           8.000000   \n",
       "50%          700.000000          25.000000          13.000000   \n",
       "75%         1900.000000          38.000000          21.000000   \n",
       "max        40425.000000         105.000000         105.000000   \n",
       "\n",
       "       product_width_cm  \n",
       "count      32949.000000  \n",
       "mean          23.196728  \n",
       "std           12.079047  \n",
       "min            6.000000  \n",
       "25%           15.000000  \n",
       "50%           20.000000  \n",
       "75%           30.000000  \n",
       "max          118.000000  "
      ]
     },
     "execution_count": 46,
     "metadata": {},
     "output_type": "execute_result"
    }
   ],
   "source": [
    "df_product.describe()"
   ]
  },
  {
   "cell_type": "code",
   "execution_count": 47,
   "id": "452af270",
   "metadata": {},
   "outputs": [
    {
     "data": {
      "text/plain": [
       "product_id                 0\n",
       "product_category_name    610\n",
       "product_weight_g           2\n",
       "product_length_cm          2\n",
       "product_height_cm          2\n",
       "product_width_cm           2\n",
       "dtype: int64"
      ]
     },
     "execution_count": 47,
     "metadata": {},
     "output_type": "execute_result"
    }
   ],
   "source": [
    "df_product.isna().sum()"
   ]
  },
  {
   "cell_type": "code",
   "execution_count": 48,
   "id": "88c79603",
   "metadata": {},
   "outputs": [],
   "source": [
    "#Filling The Missing Value\n",
    "\n",
    "df_product[\"product_category_name\"] = df_product[\"product_category_name\"].fillna(\"Unknown\")"
   ]
  },
  {
   "cell_type": "code",
   "execution_count": 51,
   "id": "ec053009",
   "metadata": {},
   "outputs": [
    {
     "data": {
      "text/plain": [
       "0"
      ]
     },
     "execution_count": 51,
     "metadata": {},
     "output_type": "execute_result"
    }
   ],
   "source": [
    "df_product.duplicated().sum()"
   ]
  },
  {
   "cell_type": "code",
   "execution_count": 57,
   "id": "3cccc9c4",
   "metadata": {},
   "outputs": [
    {
     "name": "stdout",
     "output_type": "stream",
     "text": [
      "Weight Skewness 3.604859782275307\n",
      "Length Skewness 1.7504597083360067\n",
      "Width Skewness 1.6709713361516598\n"
     ]
    }
   ],
   "source": [
    "#Filling The Missing Value By Length, Height, and Width\n",
    "\n",
    "print(\"Weight Skewness\", df_product[\"product_weight_g\"].skew())\n",
    "print(\"Length Skewness\", df_product[\"product_length_cm\"].skew())\n",
    "print(\"Width Skewness\", df_product[\"product_width_cm\"].skew())"
   ]
  },
  {
   "cell_type": "code",
   "execution_count": null,
   "id": "9039ebf0",
   "metadata": {},
   "outputs": [],
   "source": [
    "df_product.fillna({col: df_product[col].median() \n",
    "                    for col in ['product_weight_g', 'product_length_cm',\n",
    "                    'product_height_cm', 'product_width_cm']}, inplace=True)\n"
   ]
  },
  {
   "cell_type": "code",
   "execution_count": 71,
   "id": "4c2dc473",
   "metadata": {},
   "outputs": [
    {
     "data": {
      "text/plain": [
       "product_id               0\n",
       "product_category_name    0\n",
       "product_weight_g         0\n",
       "product_length_cm        0\n",
       "product_height_cm        0\n",
       "product_width_cm         0\n",
       "dtype: int64"
      ]
     },
     "execution_count": 71,
     "metadata": {},
     "output_type": "execute_result"
    }
   ],
   "source": [
    "df_product.isna().sum()"
   ]
  },
  {
   "cell_type": "code",
   "execution_count": 72,
   "id": "a2e766b6",
   "metadata": {},
   "outputs": [
    {
     "data": {
      "text/plain": [
       "product_id               32951\n",
       "product_category_name    32951\n",
       "product_weight_g         32951\n",
       "product_length_cm        32951\n",
       "product_height_cm        32951\n",
       "product_width_cm         32951\n",
       "dtype: int64"
      ]
     },
     "execution_count": 72,
     "metadata": {},
     "output_type": "execute_result"
    }
   ],
   "source": [
    "df_product.count()"
   ]
  },
  {
   "cell_type": "code",
   "execution_count": 90,
   "id": "292547db",
   "metadata": {},
   "outputs": [],
   "source": [
    "df_product.to_csv(\"../data/processed/product_cleaned.csv\", index=False)"
   ]
  },
  {
   "cell_type": "markdown",
   "id": "a43c7331",
   "metadata": {},
   "source": [
    "#### Address"
   ]
  },
  {
   "cell_type": "code",
   "execution_count": 73,
   "id": "6b396a16",
   "metadata": {},
   "outputs": [
    {
     "name": "stdout",
     "output_type": "stream",
     "text": [
      "<class 'pandas.core.frame.DataFrame'>\n",
      "RangeIndex: 3095 entries, 0 to 3094\n",
      "Data columns (total 4 columns):\n",
      " #   Column                  Non-Null Count  Dtype \n",
      "---  ------                  --------------  ----- \n",
      " 0   seller_id               3095 non-null   object\n",
      " 1   seller_zip_code_prefix  3095 non-null   int64 \n",
      " 2   seller_city             3095 non-null   object\n",
      " 3   seller_state            3095 non-null   object\n",
      "dtypes: int64(1), object(3)\n",
      "memory usage: 96.8+ KB\n"
     ]
    }
   ],
   "source": [
    "df_address.info()"
   ]
  },
  {
   "cell_type": "code",
   "execution_count": 74,
   "id": "acffde0e",
   "metadata": {},
   "outputs": [
    {
     "name": "stdout",
     "output_type": "stream",
     "text": [
      "seller_city : ['campinas' 'mogi guacu' 'rio de janeiro' 'sao paulo' 'braganca paulista'\n",
      " 'brejao' 'penapolis' 'curitiba' 'anapolis' 'itirapina' 'tubarao'\n",
      " 'lauro de freitas' 'imbituba' 'brasilia' 'porto seguro' 'guaruja'\n",
      " 'tabatinga' 'salto' 'tres de maio' 'belo horizonte' 'arapongas'\n",
      " 'sao bernardo do campo' 'tatui' 'garopaba' 'camanducaia' 'tupa'\n",
      " 'guarulhos' 'sao jose dos pinhais' 'sao ludgero' 'sao jose' 'piracicaba'\n",
      " 'porto alegre' 'congonhal' 'santo andre' 'osasco' 'valinhos' 'joinville'\n",
      " 'saquarema' 'barra velha' 'petropolis' 'santo antonio da patrulha'\n",
      " 'ponta grossa' 'santana de parnaiba' 'sao carlos' 'ibitinga' 'barueri'\n",
      " 'caxias do sul' 'araguari' 'contagem' 'jaragua do sul' 'lages - sc'\n",
      " 'bento goncalves' 'catanduva' 'ribeirao pires' 'jaboticabal' 'echapora'\n",
      " 'cotia' 'rio do sul' 'sorocaba' 'pradopolis' 'itaborai' 'mirassol'\n",
      " 'birigui' 'assis' 'jaguariuna' 'araraquara' 'macae' 'rio claro'\n",
      " 'londrina' 'ribeirao preto' 'tres coracoes' 'nhandeara' 'orleans'\n",
      " 'cuiaba' 'formosa do oeste' 'santos' 'santa terezinha de goias'\n",
      " 'arvorezinha' 'guiricema' 'caruaru' 'franca' 'salvador' 'diadema'\n",
      " 'itaquaquecetuba' 'lencois paulista' 'carapicuiba' 'uruacu' 'itajai'\n",
      " 'loanda' 'maringa' 'ferraz de vasconcelos' 'limeira' 'claudio' 'niteroi'\n",
      " 'osvaldo cruz' 'sao goncalo' 'jaciara' 'balenario camboriu' 'timbo'\n",
      " 'jacutinga' 'fortaleza' 'ferraz de  vasconcelos' 'mirandopolis' 'bauru'\n",
      " 'jacarei' 'itu' 'laranjeiras do sul' 'videira' 'florianopolis'\n",
      " 'itapecerica da serra' 'mamanguape' 'ponte nova' 'goioere' 'pederneiras'\n",
      " 'itapevi' 'goiania' 'campina grande' 'estancia velha' 'resende' 'maua'\n",
      " 'caratinga' 'auriflama/sp' 'cafelandia' 'uba' 'sao paulo / sao paulo'\n",
      " 'sao jose do rio preto' 'porto ferreira' 'tres coroas' 'blumenau'\n",
      " 'mogi das cruzes' 'jaci' 'laranjal paulista' 'americana' 'sertanopolis'\n",
      " 'apucarana' 'colombo' 'vicente de carvalho' 'mesquita' 'sao pauo'\n",
      " 'cascavel' 'fazenda rio grande' 'taboao da serra' 'sao jose dos campos'\n",
      " 'toledo' 'marechal candido rondon' 'jundiai' 'mandirituba' 'suzano'\n",
      " 'vespasiano' 'santa rosa' 'sao joaquim da barra' 'santo antonio de posse'\n",
      " 'uruguaiana' 'campanha' 'piracanjuba' 'concordia' 'santa rita do sapucai'\n",
      " 'barretos' 'indaiatuba' 'nilopolis' 'pompeia' 'barro alto' 'são paulo'\n",
      " 'praia grande' 'luiz alves' 'brusque' 'criciuma' 'jales' 'atibaia'\n",
      " 'rio branco' 'barra mansa' 'marilia' 'bahia' 'taubate' 'cascavael'\n",
      " 'monteiro lobato' 'viana' 'paraiba do sul' 'mococa' 'sao roque' 'passos'\n",
      " 'francisco beltrao' 'tocantins' 'porto belo' 'nova iguacu' 'icara'\n",
      " 'lajeado' 'horizontina' 'votorantim' 'campo bom' 'monte alto'\n",
      " 'fernandopolis' 'pedreira' 'poa' 'divinopolis' 'santa barbara d´oeste'\n",
      " 'canoas' 'mombuca' 'sete lagoas' 'campo do meio' 'cordeiropolis'\n",
      " 'uberlandia' 'santa barbara d oeste' 'volta redonda' '04482255'\n",
      " 'aracatuba' 'monte siao' 'garuva' 'bonfinopolis de minas' 'cosmopolis'\n",
      " 'pocos de caldas' 'artur nogueira' 'joao pessoa' 'dois corregos'\n",
      " 'araquari' 'novo hamburgo, rio grande do sul, brasil' 'floranopolis'\n",
      " 'sumare' 'guaira' 'cachoeiro de itapemirim' 'serrana' 'rolandia'\n",
      " 'congonhas' 'sao  jose dos pinhais' 'boituva' 'mairipora' 'guaimbe'\n",
      " 'parai' 'aperibe' 'jaguaruna' 'vila velha' 'juiz de fora' 'fronteira'\n",
      " 'novo horizonte' 'pilar do sul' 'itajobi' 'cariacica / es' 'prados'\n",
      " 'mucambo' 'montes claros' 'vicosa' 'porto velho' 'sao jose do rio pardo'\n",
      " 'pato branco' 'sao joao del rei' 'presidente prudente' 'paracambi'\n",
      " 'serra negra' 'sao caetano do sul' 'bom jardim' 'serra redonda'\n",
      " 'sao francisco do sul' 'betim' 'imbituva' 'guaratuba' 'teresina'\n",
      " \"sao miguel d'oeste\" 'california' 'japira' 'foz do iguacu'\n",
      " 'nova friburgo' 'itau de minas' 'oliveira' 'sabara' 'pedrinhas paulista'\n",
      " 'votuporanga' 'holambra' 'ararangua' 'pinhais' 'pato bragado' 'carazinho'\n",
      " 'arinos' 'sao pedro' 'lages' 'ampere' 'itauna' 'mogi mirim' 'curitibanos'\n",
      " 'brasilia df' 'mogi das cruses' 'hortolandia' 'ipatinga' 'laguna'\n",
      " 'dores de campos' 'sao paulo - sp' 'araras' 'divisa nova'\n",
      " 'igaracu do tiete' 'pitangueiras' 'campo grande' 'garca'\n",
      " 'presidente epitacio' 'sbc/sp' \"arraial d'ajuda (porto seguro)\"\n",
      " 'pacatuba' 'formosa' 'borda da mata' 'ubatuba' 'entre rios do oeste'\n",
      " 'formiga' 'venancio aires' 'navegantes' 'cruzeiro' 'santa maria' 'muriae'\n",
      " 'santo andre/sao paulo' 'ipe' 'messias targino' 'varginha' 'botucatu'\n",
      " 'domingos martins' 'uberaba' 'coronel fabriciano' 'cachoeirinha'\n",
      " 's jose do rio preto' 'taruma' 'pirassununga' 'aruja' 'sp / sp'\n",
      " 'angra dos reis' 'juzeiro do norte' 'laurentino' 'flores da cunha'\n",
      " 'montenegro' 'pedregulho' 'novo hamburgo' 'torres' 'aracaju'\n",
      " 'santa catarina' 'joao pinheiro' 'bady bassitt' 'sinop' 'guarapuava'\n",
      " 'araucaria' 'vitoria' 'batatais' 'lagoa santa' 'chapeco' 'umuarama'\n",
      " 'belford roxo' 'cariacica' 'monte alegre do sul' 'sp' 'lagoa da prata'\n",
      " 'rolante' 'teresopolis' 'itaporanga' 'campo largo' 'sao joao de meriti'\n",
      " 'maua/sao paulo' 'bom jesus dos perdoes' 'brotas' 'irece' 'coxim' 'jau'\n",
      " 'conselheiro lafaiete' 'amparo' 'sao miguel do oeste' 'gaspar'\n",
      " 'rio bonito' 'mandaguari' 'vargem grande paulista' 'conchal' 'cambe'\n",
      " 'marialva' 'alfenas' 'balneario camboriu' 'palhoca'\n",
      " 'sao bernardo do capo' 'guara' 'colatina' 'franco da rocha' 'lambari'\n",
      " 'mogi das cruzes / sp' 'treze tilias' 'rio de janeiro \\\\rio de janeiro'\n",
      " 'paulo lopes' 'santa cecilia' 'braco do norte' 'floresta' 'farroupilha'\n",
      " 'castro' 'luziania' 'joao monlevade' 'pelotas' 'sao bento'\n",
      " 'campos dos goytacazes' 'ouro fino' 'sao jose dos pinhas' 'tiete'\n",
      " 'viamao' 'janauba' 'capivari' 'santa terezinha de itaipu' 'igrejinha'\n",
      " 'sao bento do sul' 'duque de caxias' 'araxa' 'canoinhas' 'recife'\n",
      " 'barbacena/ minas gerais' 'vera cruz' 'parnamirim' 'santo angelo'\n",
      " 'paincandu' 'tres rios' 'tanabi' 'portoferreira' 'itatiba' 'sarandi'\n",
      " 'cravinhos' 'morrinhos' 'bebedouro' 'almirante tamandare' 'bertioga'\n",
      " 'natal' 'belo horizont' 'ivoti' 'andira-pr' 'cerqueira cesar' 'marapoama'\n",
      " 'imigrante' 'mairinque' 'sao paulo sp' 'rio de janeiro / rio de janeiro'\n",
      " 'andradas' 'sando andre' 'nova odessa' 'paulinia' 'extrema' 'olimpia'\n",
      " 'angra dos reis rj' 'ronda alta' 'sao  paulo' 'sao vicente' 'pinhais/pr'\n",
      " 'portao' 'registro' 'ao bernardo do campo' 'carmo do cajuru'\n",
      " 'embu das artes' 'fernando prestes' 'castro pires' 'vargem grande do sul'\n",
      " 'campina das missoes' 'sao pedro da aldeia' 'miguelopolis' 'itapui' 'sbc'\n",
      " 'neopolis' 'mineiros do tiete' 'varzea paulista' 'nova lima' 'barbacena'\n",
      " 'caieiras' 'buritama' 'erechim' 'itapetininga' 'pinhalzinho' 'descalvado'\n",
      " 'pitanga' 'bage' 'taio' \"santa barbara d'oeste\" 'patos de minas'\n",
      " 'garulhos' 'jarinu' 'nova petropolis' 'ribeirao preto / sao paulo'\n",
      " 'camboriu' 'nova trento' 'sao luis' 'sao jose do rio pret' 'eusebio'\n",
      " 'itaipulandia' 'ipira' 'campo magro' 'tiradentes' 'sao paluo' 'baependi'\n",
      " 'embu guacu' 'paraiso do sul' 'aparecida' 'cataguases' 'bariri'\n",
      " 'abadia de goias' 'alambari' 'ji parana' 'vassouras' 'lorena' 'rodeio'\n",
      " 'louveira' 'guanhaes' 'santo antonio de padua' 'presidente getulio'\n",
      " 'campos novos' 'eunapolis' 'engenheiro coelho' 'rio das pedras'\n",
      " 'afonso claudio' 'carapicuiba / sao paulo' 'centro' 'parana' 'indaial'\n",
      " 'bombinhas' 'orlandia' 'itapeva' 'sao sebastiao' 'macatuba'\n",
      " 'sao joao da boa vista' 'teixeira soares' 'mandaguacu' 'rio do oeste'\n",
      " 'vendas@creditparts.com.br' 'armacao dos buzios' 'mateus leme'\n",
      " 'sao paulop' 'campo limpo paulista' 'socorro' 'serra' 'bocaiuva do sul'\n",
      " 'ilheus' 'imbe' 'soledade' 'cajamar' 'rio negrinho' 'clementina'\n",
      " 'francisco morato' 'rio grande' 'xaxim' 'manaus' 'terra boa'\n",
      " 'minas gerais' 'avare' 'ibirite' 'santa maria da serra' 'auriflama'\n",
      " 'condor' 'ibia' 'guanambi' 'caucaia' 'cordilheira alta' 'carmo da mata'\n",
      " 'ouro preto' 'pedro leopoldo' 'santa rosa de viterbo' 'xanxere'\n",
      " 'alvares machado' 'scao jose do rio pardo' 'ribeirao das neves'\n",
      " 'medianeira' 'massaranduba' 'cornelio procopio' 'pirituba' 'jambeiro'\n",
      " 'sao leopoldo' 'aguas claras df' 'ribeirao pretp' 'cianorte'\n",
      " 'feira de santana' 'cachoeira do sul' 'guariba'\n",
      " 'sao sebastiao da grama/sp' 'dracena' 'ourinhos' 'robeirao preto'\n",
      " 'cacador' 'gama' 'queimados' 'cananeia' 'presidente bernardes' 'pinhalao'\n",
      " 'sombrio' 'campo mourao' 'ilicinea' 'itabira' 'barrinha' 'jussara'\n",
      " 'uniao da vitoria' 'triunfo' 'santa cruz do sul' 'colorado' 'itapema'\n",
      " 'sapiranga' 'paranavai' 'alvorada' 'ipaussu' 'rio verde' 'mage'\n",
      " 'tabao da serra' 'bofete' 'picarras' 'marica' 'jaragua'\n",
      " 'governador valadares' 'rio de janeiro, rio de janeiro, brasil'\n",
      " 'pouso alegre' 'timoteo' 'muqui' 'ipua' 'jacarei / sao paulo'\n",
      " 'varzea alegre' 'guaratingueta' 'tambau' 'irati' 'riberao preto'\n",
      " 'aparecida de goiania' 'bandeirantes' 'vitoria de santo antao' 'palotina'\n",
      " 'leme']\n",
      "seller_state : ['SP' 'RJ' 'PE' 'PR' 'GO' 'SC' 'BA' 'DF' 'RS' 'MG' 'RN' 'MT' 'CE' 'PB'\n",
      " 'AC' 'ES' 'RO' 'PI' 'MS' 'SE' 'MA' 'AM' 'PA']\n"
     ]
    }
   ],
   "source": [
    "for col in [\"seller_city\", \"seller_state\"]:\n",
    "    print(col, \":\", df_address[col].unique())"
   ]
  },
  {
   "cell_type": "code",
   "execution_count": 75,
   "id": "a962730b",
   "metadata": {},
   "outputs": [
    {
     "data": {
      "text/plain": [
       "seller_id                 0\n",
       "seller_zip_code_prefix    0\n",
       "seller_city               0\n",
       "seller_state              0\n",
       "dtype: int64"
      ]
     },
     "execution_count": 75,
     "metadata": {},
     "output_type": "execute_result"
    }
   ],
   "source": [
    "df_address.isna().sum()"
   ]
  },
  {
   "cell_type": "code",
   "execution_count": 76,
   "id": "1ad822d3",
   "metadata": {},
   "outputs": [
    {
     "data": {
      "text/plain": [
       "0"
      ]
     },
     "execution_count": 76,
     "metadata": {},
     "output_type": "execute_result"
    }
   ],
   "source": [
    "df_address.duplicated().sum()"
   ]
  },
  {
   "cell_type": "code",
   "execution_count": 91,
   "id": "8c8ad23f",
   "metadata": {},
   "outputs": [],
   "source": [
    "df_address.to_csv(\"../data/processed/address_cleaned.csv\", index=False)"
   ]
  },
  {
   "cell_type": "markdown",
   "id": "4e136598",
   "metadata": {},
   "source": [
    "#### Category"
   ]
  },
  {
   "cell_type": "code",
   "execution_count": 77,
   "id": "1817f8da",
   "metadata": {},
   "outputs": [
    {
     "name": "stdout",
     "output_type": "stream",
     "text": [
      "<class 'pandas.core.frame.DataFrame'>\n",
      "RangeIndex: 71 entries, 0 to 70\n",
      "Data columns (total 2 columns):\n",
      " #   Column                         Non-Null Count  Dtype \n",
      "---  ------                         --------------  ----- \n",
      " 0   product_category_name          71 non-null     object\n",
      " 1   product_category_name_english  71 non-null     object\n",
      "dtypes: object(2)\n",
      "memory usage: 1.2+ KB\n"
     ]
    }
   ],
   "source": [
    "df_category.info()"
   ]
  },
  {
   "cell_type": "code",
   "execution_count": 78,
   "id": "d66970b1",
   "metadata": {},
   "outputs": [
    {
     "data": {
      "text/plain": [
       "0"
      ]
     },
     "execution_count": 78,
     "metadata": {},
     "output_type": "execute_result"
    }
   ],
   "source": [
    "df_category.duplicated().sum()"
   ]
  },
  {
   "cell_type": "code",
   "execution_count": 79,
   "id": "f5254127",
   "metadata": {},
   "outputs": [
    {
     "data": {
      "text/plain": [
       "product_category_name            0\n",
       "product_category_name_english    0\n",
       "dtype: int64"
      ]
     },
     "execution_count": 79,
     "metadata": {},
     "output_type": "execute_result"
    }
   ],
   "source": [
    "df_category.isna().sum()"
   ]
  },
  {
   "cell_type": "code",
   "execution_count": 82,
   "id": "9e961dc3",
   "metadata": {},
   "outputs": [
    {
     "data": {
      "text/html": [
       "<div>\n",
       "<style scoped>\n",
       "    .dataframe tbody tr th:only-of-type {\n",
       "        vertical-align: middle;\n",
       "    }\n",
       "\n",
       "    .dataframe tbody tr th {\n",
       "        vertical-align: top;\n",
       "    }\n",
       "\n",
       "    .dataframe thead th {\n",
       "        text-align: right;\n",
       "    }\n",
       "</style>\n",
       "<table border=\"1\" class=\"dataframe\">\n",
       "  <thead>\n",
       "    <tr style=\"text-align: right;\">\n",
       "      <th></th>\n",
       "      <th>product_category_name</th>\n",
       "      <th>product_category_name_english</th>\n",
       "    </tr>\n",
       "  </thead>\n",
       "  <tbody>\n",
       "    <tr>\n",
       "      <th>0</th>\n",
       "      <td>beleza_saude</td>\n",
       "      <td>health_beauty</td>\n",
       "    </tr>\n",
       "    <tr>\n",
       "      <th>1</th>\n",
       "      <td>informatica_acessorios</td>\n",
       "      <td>computers_accessories</td>\n",
       "    </tr>\n",
       "    <tr>\n",
       "      <th>2</th>\n",
       "      <td>automotivo</td>\n",
       "      <td>auto</td>\n",
       "    </tr>\n",
       "    <tr>\n",
       "      <th>3</th>\n",
       "      <td>cama_mesa_banho</td>\n",
       "      <td>bed_bath_table</td>\n",
       "    </tr>\n",
       "    <tr>\n",
       "      <th>4</th>\n",
       "      <td>moveis_decoracao</td>\n",
       "      <td>furniture_decor</td>\n",
       "    </tr>\n",
       "  </tbody>\n",
       "</table>\n",
       "</div>"
      ],
      "text/plain": [
       "    product_category_name product_category_name_english\n",
       "0            beleza_saude                 health_beauty\n",
       "1  informatica_acessorios         computers_accessories\n",
       "2              automotivo                          auto\n",
       "3         cama_mesa_banho                bed_bath_table\n",
       "4        moveis_decoracao               furniture_decor"
      ]
     },
     "execution_count": 82,
     "metadata": {},
     "output_type": "execute_result"
    }
   ],
   "source": [
    "df_category.head()"
   ]
  },
  {
   "cell_type": "code",
   "execution_count": 92,
   "id": "8726b426",
   "metadata": {},
   "outputs": [],
   "source": [
    "df_category.to_csv(\"../data/processed/category_cleaned.csv\", index=False)"
   ]
  },
  {
   "cell_type": "markdown",
   "id": "1baa41e0",
   "metadata": {},
   "source": [
    "### Explanatory Data Analysis"
   ]
  }
 ],
 "metadata": {
  "kernelspec": {
   "display_name": "Python (venv Warehousing)",
   "language": "python",
   "name": "venv"
  },
  "language_info": {
   "codemirror_mode": {
    "name": "ipython",
    "version": 3
   },
   "file_extension": ".py",
   "mimetype": "text/x-python",
   "name": "python",
   "nbconvert_exporter": "python",
   "pygments_lexer": "ipython3",
   "version": "3.10.7"
  }
 },
 "nbformat": 4,
 "nbformat_minor": 5
}
